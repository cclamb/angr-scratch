{
 "cells": [
  {
   "cell_type": "code",
   "execution_count": 26,
   "metadata": {},
   "outputs": [
    {
     "name": "stdout",
     "output_type": "stream",
     "text": [
      "\u0000\u0000\u0000\u0000\u0000\u0000\u0000\u0000\u0000SOSNEAKY\u0000\n",
      "\u0000\u0000\u0000\u0000\u0000\u0000\u0000\u0000\u0000S\u0000�N\u0000\u0000 \u0000\u0000\n"
     ]
    }
   ],
   "source": [
    "import angr\n",
    "\n",
    "h = lambda x: format(x, '#16x')\n",
    "\n",
    "p = angr.Project('./fauxware')\n",
    "\n",
    "state = p.factory.entry_state()\n",
    "sm = p.factory.simulation_manager(state)\n",
    "\n",
    "def split(sm):\n",
    "    sm.step(until=lambda lpg: len(lpg.active) > 1)\n",
    "    input_0 = sm.active[0].posix.dumps(0)\n",
    "    input_1 = sm.active[1].posix.dumps(0)\n",
    "    print input_0\n",
    "    print input_1\n",
    "\n",
    "def explore(sm):\n",
    "    sm.explore(find=lambda state: 'Welcome' in state.posix.dumps(1))\n",
    "    if len(sm.found) > 0:\n",
    "        state = sm.found[0]\n",
    "        print 'INPUT (fd == 0): \\n%s' % (state.posix.dumps(0))\n",
    "        print 'OUTPUT (fd == 1): \\n%s' % (state.posix.dumps(1))\n",
    "        print 'ERROR (fd == 2): \\n%s' % (state.posix.dumps(2))\n",
    "    else:\n",
    "        print 'No matching state found.'\n",
    "        \n",
    "        \n",
    "split(sm)"
   ]
  }
 ],
 "metadata": {
  "kernelspec": {
   "display_name": "Python 2",
   "language": "python",
   "name": "python2"
  },
  "language_info": {
   "codemirror_mode": {
    "name": "ipython",
    "version": 2
   },
   "file_extension": ".py",
   "mimetype": "text/x-python",
   "name": "python",
   "nbconvert_exporter": "python",
   "pygments_lexer": "ipython2",
   "version": "2.7.12"
  }
 },
 "nbformat": 4,
 "nbformat_minor": 2
}
