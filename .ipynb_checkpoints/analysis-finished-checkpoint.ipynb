{
 "cells": [
  {
   "cell_type": "code",
   "execution_count": 2,
   "metadata": {},
   "outputs": [
    {
     "name": "stderr",
     "output_type": "stream",
     "text": [
      "WARNING | 2017-12-05 09:52:43,806 | \u001b[36mangr.analyses.vfg\u001b[0m | \u001b[36mThe given CFG is not normalized, which might impact the performance/accuracy of the VFG analysis.\u001b[0m\n"
     ]
    }
   ],
   "source": [
    "import angr\n",
    "import networkx as nx\n",
    "import matplotlib.pyplot as plt\n",
    "%matplotlib inline\n",
    "\n",
    "import pygraphviz as pgv\n",
    "\n",
    "h = lambda x: format(x, '#16x')\n",
    "\n",
    "def draw(graph, filename):\n",
    "    a = nx.drawing.nx_agraph.to_agraph(graph)\n",
    "    a.layout(prog='dot')\n",
    "    a.draw(filename)\n",
    "\n",
    "p = angr.Project('./fauxware', auto_load_libs=False)\n",
    "\n",
    "cfg = p.analyses.CFGAccurate(context_sensitivity_level=2, keep_state=True)\n",
    "cdg = p.analyses.CDG(cfg)\n",
    "ddg = p.analyses.DDG(cfg)\n",
    "vfg = p.analyses.VFG(cfg)\n",
    "\n",
    "draw(cfg.graph, 'cfg.png')\n",
    "draw(cdg.graph, 'cdg.png')\n",
    "draw(ddg.graph, 'ddg.png')\n"
   ]
  }
 ],
 "metadata": {
  "kernelspec": {
   "display_name": "Python 2",
   "language": "python",
   "name": "python2"
  },
  "language_info": {
   "codemirror_mode": {
    "name": "ipython",
    "version": 2
   },
   "file_extension": ".py",
   "mimetype": "text/x-python",
   "name": "python",
   "nbconvert_exporter": "python",
   "pygments_lexer": "ipython2",
   "version": "2.7.12"
  }
 },
 "nbformat": 4,
 "nbformat_minor": 2
}
