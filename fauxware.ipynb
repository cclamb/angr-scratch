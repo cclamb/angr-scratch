{
 "cells": [
  {
   "cell_type": "code",
   "execution_count": 2,
   "metadata": {},
   "outputs": [],
   "source": [
    "import angr\n",
    "\n",
    "\n",
    "h = lambda x: format(x, '#16x')\n",
    "\n",
    "def project(p):\n",
    "    print '##########'\n",
    "    print 'Executable name: %s' % (p.filename)\n",
    "    print 'PIC: %s XSTACK: %s' % (p.loader.main_object.pic, p.loader.main_object.execstack)\n",
    "    print ''\n",
    "#     print p.arch.name, p.arch.memory_endness, p.arch.bytes, p.arch.bits\n",
    "#     print h(p.entry)\n",
    "#     print p.filename\n",
    "    print 'Loaded Objects:'\n",
    "    for k in p.loader.shared_objects:\n",
    "        print p.loader.shared_objects[k]\n",
    "    print '##########'\n",
    "    print ''\n",
    "    \n",
    "def loader(p):\n",
    "    print p.loader\n",
    "    print h(p.loader.min_addr)\n",
    "    print h(p.loader.max_addr)\n",
    "    print p.loader.main_object.execstack\n",
    "    print p.loader.main_object.pic\n",
    "    for k in p.loader.shared_objects:\n",
    "        print p.loader.shared_objects[k]\n",
    "        \n",
    "def block(p, a):\n",
    "    print '-> Block starting at %s' % (h(a))\n",
    "    print 'START'\n",
    "    b = p.factory.block(a)\n",
    "#     print b.instructions\n",
    "#     print [h(i) for i in b.instruction_addrs]\n",
    "    b.pp()\n",
    "    print 'END'\n",
    "    \n",
    "def step(p):\n",
    "    state = p.factory.entry_state()\n",
    "    sm = p.factory.simgr(state)\n",
    "    project(p)\n",
    "    a = sm.active[0]\n",
    "    block(p, a.addr)\n",
    "\n",
    "    sm.step()\n",
    "\n",
    "    a = sm.active[0]\n",
    "    block(p, a.addr)\n",
    "\n",
    "    sm.step()\n",
    "\n",
    "    a = sm.active[0]\n",
    "    block(p, a.addr)\n",
    "\n",
    "    sm.step()\n",
    "\n",
    "    a = sm.active[0]\n",
    "    block(p, a.addr)\n",
    "\n",
    "    rip = a.regs.rip\n",
    "    print rip\n",
    "    a.solver.eval(rip)\n",
    "    "
   ]
  },
  {
   "cell_type": "code",
   "execution_count": 7,
   "metadata": {},
   "outputs": [
    {
     "ename": "TypeError",
     "evalue": "block() takes exactly 2 arguments (1 given)",
     "output_type": "error",
     "traceback": [
      "\u001b[0;31m---------------------------------------------------------------------------\u001b[0m",
      "\u001b[0;31mTypeError\u001b[0m                                 Traceback (most recent call last)",
      "\u001b[0;32m<ipython-input-7-e2b44db2fed3>\u001b[0m in \u001b[0;36m<module>\u001b[0;34m()\u001b[0m\n\u001b[1;32m      1\u001b[0m \u001b[0mp\u001b[0m \u001b[0;34m=\u001b[0m \u001b[0mangr\u001b[0m\u001b[0;34m.\u001b[0m\u001b[0mProject\u001b[0m\u001b[0;34m(\u001b[0m\u001b[0;34m'./fauxware'\u001b[0m\u001b[0;34m)\u001b[0m\u001b[0;34m\u001b[0m\u001b[0m\n\u001b[0;32m----> 2\u001b[0;31m \u001b[0mblock\u001b[0m\u001b[0;34m(\u001b[0m\u001b[0mp\u001b[0m\u001b[0;34m)\u001b[0m\u001b[0;34m\u001b[0m\u001b[0m\n\u001b[0m\u001b[1;32m      3\u001b[0m \u001b[0;34m\u001b[0m\u001b[0m\n\u001b[1;32m      4\u001b[0m \u001b[0;34m\u001b[0m\u001b[0m\n\u001b[1;32m      5\u001b[0m \u001b[0;31m# sm.step(until=lambda lpg: len(lpg.active) > 1)\u001b[0m\u001b[0;34m\u001b[0m\u001b[0;34m\u001b[0m\u001b[0m\n",
      "\u001b[0;31mTypeError\u001b[0m: block() takes exactly 2 arguments (1 given)"
     ]
    }
   ],
   "source": [
    "p = angr.Project('./fauxware')\n",
    "\n",
    "\n",
    "# sm.step(until=lambda lpg: len(lpg.active) > 1)\n",
    "\n",
    "# dumps = []\n",
    "# for thing in sm.active:\n",
    "#     dumps.append(thing.posix.dumps(0))\n",
    "    \n",
    "# for dump in dumps:\n",
    "#     print dump"
   ]
  }
 ],
 "metadata": {
  "kernelspec": {
   "display_name": "Python 2",
   "language": "python",
   "name": "python2"
  },
  "language_info": {
   "codemirror_mode": {
    "name": "ipython",
    "version": 2
   },
   "file_extension": ".py",
   "mimetype": "text/x-python",
   "name": "python",
   "nbconvert_exporter": "python",
   "pygments_lexer": "ipython2",
   "version": "2.7.12"
  }
 },
 "nbformat": 4,
 "nbformat_minor": 2
}
