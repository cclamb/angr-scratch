{
 "cells": [
  {
   "cell_type": "code",
   "execution_count": 1,
   "metadata": {},
   "outputs": [],
   "source": [
    "import angr\n",
    "import networkx as nx\n",
    "import matplotlib.pyplot as plt\n",
    "%matplotlib inline\n",
    "\n",
    "import pygraphviz as pgv\n",
    "\n",
    "h = lambda x: format(x, '#16x')\n",
    "\n",
    "def draw(graph, filename):\n",
    "    a = nx.drawing.nx_agraph.to_agraph(graph)\n",
    "    a.layout(prog='dot')\n",
    "    a.draw(filename)\n",
    "\n",
    "p = angr.Project('./fauxware', auto_load_libs=False)\n",
    "\n",
    "cfg = p.analyses.CFGAccurate(context_sensitivity_level=2, keep_state=True)\n",
    "cdg = p.analyses.CDG(cfg)\n",
    "ddg = p.analyses.DDG(cfg)\n",
    "\n",
    "draw(cfg.graph, 'cfg.png')\n",
    "draw(cdg.graph, 'cdg.png')\n",
    "draw(ddg.graph, 'ddg.png')\n"
   ]
  }
 ],
 "metadata": {
  "kernelspec": {
   "display_name": "Python 2",
   "language": "python",
   "name": "python2"
  },
  "language_info": {
   "codemirror_mode": {
    "name": "ipython",
    "version": 2
   },
   "file_extension": ".py",
   "mimetype": "text/x-python",
   "name": "python",
   "nbconvert_exporter": "python",
   "pygments_lexer": "ipython2",
   "version": "2.7.12"
  }
 },
 "nbformat": 4,
 "nbformat_minor": 2
}
