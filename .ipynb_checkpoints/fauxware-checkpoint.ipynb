{
 "cells": [
  {
   "cell_type": "code",
   "execution_count": 52,
   "metadata": {},
   "outputs": [
    {
     "name": "stdout",
     "output_type": "stream",
     "text": [
      "AMD64 Iend_LE 8 64\n",
      "        0x400600\n",
      "./fauxware\n",
      "<Loaded fauxware, maps [0x400000:0x5008000]>\n",
      "        0x400000\n",
      "       0x5008000\n",
      "False\n",
      "False\n",
      "<ELF Object fauxware, maps [0x400000:0x601077]>\n",
      "<ELF Object libc-2.23.so, maps [0x1000000:0x13c999f]>\n",
      "<ELF Object ld-2.23.so, maps [0x2000000:0x2227167]>\n",
      "\u0000\u0000\u0000\u0000\u0000\u0000\u0000\u0000\u0000SOSNEAKY\u0000\n",
      "\u0000\u0000\u0000\u0000\u0000\u0000\u0000\u0000\u0000S\u0000�N\u0000\u0000 \u0000\u0000\n"
     ]
    }
   ],
   "source": [
    "import angr\n",
    "\n",
    "\n",
    "h = lambda x: format(x, '#16x')\n",
    "\n",
    "def project(p):\n",
    "    print p.arch.name, p.arch.memory_endness, p.arch.bytes, p.arch.bits\n",
    "    print h(p.entry)\n",
    "    print p.filename\n",
    "    \n",
    "def loader(p):\n",
    "    print p.loader\n",
    "    print h(p.loader.min_addr)\n",
    "    print h(p.loader.max_addr)\n",
    "    print p.loader.main_object.execstack\n",
    "    print p.loader.main_object.pic\n",
    "    for k in p.loader.shared_objects:\n",
    "        print p.loader.shared_objects[k]\n",
    "    \n",
    "p = angr.Project('./fauxware')\n",
    "project(p)\n",
    "loader(p)\n",
    "\n",
    "state = p.factory.entry_state()\n",
    "sm = p.factory.simgr(state)\n",
    "sm.step(until=lambda lpg: len(lpg.active) > 1)\n",
    "\n",
    "dumps = []\n",
    "for thing in sm.active:\n",
    "    dumps.append(thing.posix.dumps(0))\n",
    "    \n",
    "for dump in dumps:\n",
    "    print dump"
   ]
  }
 ],
 "metadata": {
  "kernelspec": {
   "display_name": "Python 2",
   "language": "python",
   "name": "python2"
  },
  "language_info": {
   "codemirror_mode": {
    "name": "ipython",
    "version": 2
   },
   "file_extension": ".py",
   "mimetype": "text/x-python",
   "name": "python",
   "nbconvert_exporter": "python",
   "pygments_lexer": "ipython2",
   "version": "2.7.12"
  }
 },
 "nbformat": 4,
 "nbformat_minor": 2
}
