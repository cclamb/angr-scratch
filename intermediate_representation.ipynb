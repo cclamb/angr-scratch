{
 "cells": [
  {
   "cell_type": "code",
   "execution_count": 12,
   "metadata": {
    "collapsed": true
   },
   "outputs": [],
   "source": [
    "import angr, pyvex"
   ]
  },
  {
   "cell_type": "code",
   "execution_count": 27,
   "metadata": {
    "collapsed": false
   },
   "outputs": [
    {
     "name": "stdout",
     "output_type": "stream",
     "text": [
      "IRSB {\n",
      "   t0:Ity_I32 t1:Ity_I32 t2:Ity_I32 t3:Ity_I64 t4:Ity_I64 t5:Ity_I64 t6:Ity_I64 t7:Ity_I64 t8:Ity_I64 t9:Ity_I64 t10:Ity_I64 t11:Ity_I64 t12:Ity_I64 t13:Ity_I64 t14:Ity_I64 t15:Ity_I32 t16:Ity_I64 t17:Ity_I32 t18:Ity_I64 t19:Ity_I64 t20:Ity_I64 t21:Ity_I64 t22:Ity_I64 t23:Ity_I64 t24:Ity_I64 t25:Ity_I64 t26:Ity_I64 t27:Ity_I64 t28:Ity_I64 t29:Ity_I64 t30:Ity_I64 t31:Ity_I64\n",
      "\n",
      "   00 | ------ IMark(0x4013d0, 2, 0) ------\n",
      "   01 | PUT(bp) = 0x0000000000000000\n",
      "   02 | ------ IMark(0x4013d2, 3, 0) ------\n",
      "   03 | t21 = GET:I64(rdx)\n",
      "   04 | PUT(r9) = t21\n",
      "   05 | PUT(pc) = 0x00000000004013d5\n",
      "   06 | ------ IMark(0x4013d5, 1, 0) ------\n",
      "   07 | t4 = GET:I64(rsp)\n",
      "   08 | t3 = LDle:I64(t4)\n",
      "   09 | t22 = Add64(t4,0x0000000000000008)\n",
      "   10 | PUT(rsi) = t3\n",
      "   11 | ------ IMark(0x4013d6, 3, 0) ------\n",
      "   12 | PUT(rdx) = t22\n",
      "   13 | ------ IMark(0x4013d9, 4, 0) ------\n",
      "   14 | t5 = And64(t22,0xfffffffffffffff0)\n",
      "   15 | PUT(cc_op) = 0x0000000000000014\n",
      "   16 | PUT(cc_dep1) = t5\n",
      "   17 | PUT(cc_dep2) = 0x0000000000000000\n",
      "   18 | PUT(pc) = 0x00000000004013dd\n",
      "   19 | ------ IMark(0x4013dd, 1, 0) ------\n",
      "   20 | t8 = GET:I64(rax)\n",
      "   21 | t24 = Sub64(t5,0x0000000000000008)\n",
      "   22 | PUT(rsp) = t24\n",
      "   23 | STle(t24) = t8\n",
      "   24 | PUT(pc) = 0x00000000004013de\n",
      "   25 | ------ IMark(0x4013de, 1, 0) ------\n",
      "   26 | t26 = Sub64(t24,0x0000000000000008)\n",
      "   27 | PUT(rsp) = t26\n",
      "   28 | STle(t26) = t24\n",
      "   29 | ------ IMark(0x4013df, 7, 0) ------\n",
      "   30 | PUT(r8) = 0x0000000000403ff0\n",
      "   31 | ------ IMark(0x4013e6, 7, 0) ------\n",
      "   32 | PUT(rcx) = 0x0000000000403f80\n",
      "   33 | ------ IMark(0x4013ed, 7, 0) ------\n",
      "   34 | PUT(rdi) = 0x0000000000401330\n",
      "   35 | PUT(pc) = 0x00000000004013f4\n",
      "   36 | ------ IMark(0x4013f4, 5, 0) ------\n",
      "   37 | t28 = Sub64(t26,0x0000000000000008)\n",
      "   38 | PUT(rsp) = t28\n",
      "   39 | STle(t28) = 0x00000000004013f9\n",
      "   40 | t30 = Sub64(t28,0x0000000000000080)\n",
      "   41 | ====== AbiHint(0xt30, 128, 0x0000000000401180) ======\n",
      "   NEXT: PUT(rip) = 0x0000000000401180; Ijk_Call\n",
      "}\n",
      "0x0000000000401180\n",
      "[-]\n",
      "Data: \n",
      "t8\n",
      "Type: \n",
      "Ity_I64\n",
      "----\n",
      "[-]\n",
      "Data: \n",
      "t24\n",
      "Type: \n",
      "Ity_I64\n",
      "----\n",
      "[-]\n",
      "Data: \n",
      "0x00000000004013f9\n",
      "Type: \n",
      "Ity_I64\n",
      "----\n",
      "['Ity_I32', 'Ity_I32', 'Ity_I32', 'Ity_I64', 'Ity_I64', 'Ity_I64', 'Ity_I64', 'Ity_I64', 'Ity_I64', 'Ity_I64', 'Ity_I64', 'Ity_I64', 'Ity_I64', 'Ity_I64', 'Ity_I64', 'Ity_I32', 'Ity_I64', 'Ity_I32', 'Ity_I64', 'Ity_I64', 'Ity_I64', 'Ity_I64', 'Ity_I64', 'Ity_I64', 'Ity_I64', 'Ity_I64', 'Ity_I64', 'Ity_I64', 'Ity_I64', 'Ity_I64', 'Ity_I64', 'Ity_I64']\n",
      "\n",
      "Ity_I32\n"
     ]
    }
   ],
   "source": [
    "b = angr.Project('/bin/true')\n",
    "irsb = b.factory.block(b.entry).vex\n",
    "irsb.pp()\n",
    "irsb.next.pp()\n",
    "for stmt in irsb.statements:\n",
    "    if isinstance(stmt, pyvex.IRStmt.Store):\n",
    "        print '[-]'\n",
    "        print 'Data: '\n",
    "        stmt.data.pp()\n",
    "        print 'Type: '\n",
    "        print stmt.data.result_type\n",
    "        print '----'\n",
    "    elif isinstance(stmt, pyvex.IRStmt.Exit):\n",
    "        print '[+]'\n",
    "        print 'Condition: '\n",
    "        stmt.guard.pp()\n",
    "        print 'Target: '\n",
    "        print stmt.dst.pp()\n",
    "        print '++++'\n",
    "print irsb.tyenv.types\n",
    "print ''\n",
    "print irsb.tyenv.types[0]"
   ]
  }
 ],
 "metadata": {
  "kernelspec": {
   "display_name": "Python 2",
   "language": "python",
   "name": "python2"
  },
  "language_info": {
   "codemirror_mode": {
    "name": "ipython",
    "version": 2
   },
   "file_extension": ".py",
   "mimetype": "text/x-python",
   "name": "python",
   "nbconvert_exporter": "python",
   "pygments_lexer": "ipython2",
   "version": "2.7.12"
  }
 },
 "nbformat": 4,
 "nbformat_minor": 2
}
