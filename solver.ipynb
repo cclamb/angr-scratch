{
 "cells": [
  {
   "cell_type": "code",
   "execution_count": 49,
   "metadata": {},
   "outputs": [
    {
     "name": "stdout",
     "output_type": "stream",
     "text": [
      "4 3\n"
     ]
    }
   ],
   "source": [
    "import angr, monkeyhex\n",
    "\n",
    "h = lambda x: format(x, '#16x')\n",
    "\n",
    "\n",
    "p = angr.Project('./fauxware')\n",
    "s = p.factory.entry_state()\n",
    "\n",
    "x = s.solver.BVS('x', 64)\n",
    "y = s.solver.BVS('y', 64)\n",
    "z = ((x + y) * 3) + x\n",
    "\n",
    "s.solver.add(z == 25)\n",
    "s.solver.add(x < 100)\n",
    "s.solver.add(y < 100)\n",
    "rx = s.solver.eval(x)\n",
    "ry = s.solver.eval(y)\n",
    "\n",
    "print s.solver.eval(rx), s.solver.eval(ry)"
   ]
  }
 ],
 "metadata": {
  "kernelspec": {
   "display_name": "Python 2",
   "language": "python",
   "name": "python2"
  },
  "language_info": {
   "codemirror_mode": {
    "name": "ipython",
    "version": 2
   },
   "file_extension": ".py",
   "mimetype": "text/x-python",
   "name": "python",
   "nbconvert_exporter": "python",
   "pygments_lexer": "ipython2",
   "version": "2.7.12"
  }
 },
 "nbformat": 4,
 "nbformat_minor": 2
}
